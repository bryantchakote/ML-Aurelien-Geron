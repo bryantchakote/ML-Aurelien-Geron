{
 "cells": [
  {
   "cell_type": "markdown",
   "id": "680b56c9",
   "metadata": {},
   "source": [
    "# Chapitre 3. Classification"
   ]
  },
  {
   "cell_type": "markdown",
   "id": "db40fead",
   "metadata": {},
   "source": [
    "## MNIST"
   ]
  },
  {
   "cell_type": "code",
   "execution_count": null,
   "id": "3a139106",
   "metadata": {},
   "outputs": [],
   "source": [
    "from sklearn.datasets import fetch_openml\n",
    "mnist = fetch_openml(\"mnist_784\", version=1, data_home=\"C:\\\\Users\\\\tchak\\\\scikit_learn_data\")\n",
    "mnist.keys()"
   ]
  },
  {
   "cell_type": "code",
   "execution_count": null,
   "id": "dd523ca0",
   "metadata": {
    "scrolled": true
   },
   "outputs": [],
   "source": [
    "X, y = mnist[\"data\"], mnist[\"target\"]\n",
    "print(X.shape, y.shape)"
   ]
  },
  {
   "cell_type": "code",
   "execution_count": null,
   "id": "12ea7258",
   "metadata": {},
   "outputs": [],
   "source": [
    "import numpy as np\n",
    "import matplotlib.pyplot as plt\n",
    "some_digit = np.array(X[:1])\n",
    "some_digit_image = some_digit.reshape(28, 28)\n",
    "\n",
    "plt.imshow(some_digit_image, cmap=\"binary\")\n",
    "plt.axis(\"off\")"
   ]
  },
  {
   "cell_type": "code",
   "execution_count": null,
   "id": "c886a0c2",
   "metadata": {
    "scrolled": true
   },
   "outputs": [],
   "source": [
    "y[0]"
   ]
  },
  {
   "cell_type": "code",
   "execution_count": null,
   "id": "c98f5eeb",
   "metadata": {},
   "outputs": [],
   "source": [
    "y = y.astype(np.uint8)"
   ]
  },
  {
   "cell_type": "code",
   "execution_count": null,
   "id": "409f85a3",
   "metadata": {},
   "outputs": [],
   "source": [
    "X_train, X_test, y_train, y_test = X[:60000], X[60000:], y[:60000], y[60000:]"
   ]
  },
  {
   "cell_type": "markdown",
   "id": "a953e18c",
   "metadata": {},
   "source": [
    "## Entrainement d'un classificateur binaire"
   ]
  },
  {
   "cell_type": "code",
   "execution_count": null,
   "id": "1dde3bbc",
   "metadata": {},
   "outputs": [],
   "source": [
    "y_train_5 = (y_train == 5)\n",
    "y_test_5 = (y_test == 5)"
   ]
  },
  {
   "cell_type": "code",
   "execution_count": null,
   "id": "10ab2229",
   "metadata": {},
   "outputs": [],
   "source": [
    "# Classificateur de descente de gradient stochastique (Stochastic Gradient Descent - SGD)\n",
    "from sklearn.linear_model import SGDClassifier\n",
    "sgd_clf = SGDClassifier(random_state=42)\n",
    "sgd_clf.fit(X_train, y_train_5)\n",
    "\n",
    "sgd_clf.predict(X[:1]) # True!"
   ]
  },
  {
   "cell_type": "markdown",
   "id": "ab15d615",
   "metadata": {},
   "source": [
    "## Mesures de performance"
   ]
  },
  {
   "cell_type": "markdown",
   "id": "cd58e7bc",
   "metadata": {},
   "source": [
    "### Mesurer l'exactitude à l'aide de la validation croisée"
   ]
  },
  {
   "cell_type": "code",
   "execution_count": null,
   "id": "cb44fcfb",
   "metadata": {},
   "outputs": [],
   "source": [
    "# Implementation d'une validation croisée (meilleur contrôle du processus)\n",
    "from sklearn.model_selection import StratifiedKFold\n",
    "from sklearn.base import clone\n",
    "\n",
    "skfolds = StratifiedKFold(n_splits=3, shuffle=True, random_state=42)\n",
    "# Echantillonage stratifié pour produire des blocs contenant un ratio représentatif de chaque classe\n",
    "\n",
    "for train_index, test_index in skfolds.split(X_train, y_train_5):\n",
    "    clone_clf = clone(sgd_clf)\n",
    "    X_train_folds = X_train.loc[train_index]\n",
    "    y_train_folds = y_train_5.loc[train_index]\n",
    "    X_test_fold = X_train.loc[test_index]\n",
    "    y_test_fold = y_train_5.loc[test_index]\n",
    "    \n",
    "    clone_clf.fit(X_train_folds, y_train_folds)\n",
    "    y_pred = clone_clf.predict(X_test_fold)\n",
    "    n_correct = sum(y_pred == y_test_fold)\n",
    "    print(n_correct / len(y_pred))\n",
    "# Résultats plutôt satisfaisants"
   ]
  },
  {
   "cell_type": "code",
   "execution_count": null,
   "id": "aa33e7c6",
   "metadata": {},
   "outputs": [],
   "source": [
    "from sklearn.model_selection import cross_val_score\n",
    "cross_val_score(sgd_clf, X_train, y_train_5, cv=3, scoring=\"accuracy\")\n",
    "# > 95%, stupéfiant, mais pas assez, on verra pourquoi"
   ]
  },
  {
   "cell_type": "code",
   "execution_count": null,
   "id": "748edc35",
   "metadata": {},
   "outputs": [],
   "source": [
    "# Classificateur dénué de toute intelligence\n",
    "from sklearn.base import BaseEstimator\n",
    "class Never5Classifier(BaseEstimator):\n",
    "    def fit(self, X, y=None):\n",
    "        pass\n",
    "    def predict(self, X):\n",
    "        return np.zeros((len(X), 1), dtype=bool) # Retourne juste une matrice unicolonne nulle"
   ]
  },
  {
   "cell_type": "code",
   "execution_count": null,
   "id": "fbbcd570",
   "metadata": {},
   "outputs": [],
   "source": [
    "never_5_clf = Never5Classifier()\n",
    "cross_val_score(never_5_clf, X_train, y_train_5, cv=3, scoring=\"accuracy\")\n",
    "# > 90% avec ce classificateur -> en effet les 5 ne représentent que 10% des images\n",
    "# Décider à chaque fois qu'une image n'est pas 5 -> avoir raison dans 90% des cas\n",
    "# L'exactitude n'est pas en général une mesure de performance surtout en cas d'asymétrie des données"
   ]
  },
  {
   "cell_type": "markdown",
   "id": "6f186820",
   "metadata": {},
   "source": [
    "### Matrice de confusion"
   ]
  },
  {
   "cell_type": "code",
   "execution_count": null,
   "id": "a314de1d",
   "metadata": {},
   "outputs": [],
   "source": [
    "# Capter les observations rangées dans la mauvaise classe\n",
    "# Ne pouvant pas utiliser le jeu test -> cross_val_predict\n",
    "\n",
    "from sklearn.model_selection import cross_val_predict\n",
    "y_train_pred = cross_val_predict(sgd_clf, X_train, y_train_5, cv=3)\n",
    "# Prédiction dite saine (par un modèle qui n'a jamais rencontré les données) pour chaque bloc de test\n",
    "\n",
    "from sklearn.metrics import confusion_matrix\n",
    "confusion_matrix(y_train_5, y_train_pred)\n",
    "# En ligne la classe réelle, en colonne la classe prédite\n",
    "# TrueNegative     FalseNegative \n",
    "# FalsePositive    TruePositive"
   ]
  },
  {
   "cell_type": "markdown",
   "id": "02ced46d",
   "metadata": {},
   "source": [
    "### Precision et rappel"
   ]
  },
  {
   "cell_type": "code",
   "execution_count": null,
   "id": "9cb28881",
   "metadata": {},
   "outputs": [],
   "source": [
    "from sklearn.metrics import precision_score, recall_score\n",
    "print(\"Precision:\", precision_score(y_train_5, y_train_pred),\n",
    "      \"\\nRappel:\", recall_score(y_train_5, y_train_pred))\n",
    "\n",
    "# Précision -> exactitude des prédictions positives - TP / (TP + FP)\n",
    "# Lorsqu'il declare qu'une image est 5, il n'a raison que 83.71% du temps\n",
    "\n",
    "# Rappel (sensibilité, True Positive Rate) -> Nombre d'observations positives detectées TP / (TP + FN)\n",
    "# Il ne detecte que 65.11% des 5"
   ]
  },
  {
   "cell_type": "code",
   "execution_count": null,
   "id": "2b947208",
   "metadata": {},
   "outputs": [],
   "source": [
    "# Score F1 -> moyenne harmonique de la précision et du rappel, donne plus de poid aux faibles valeurs\n",
    "# Bon score F1 si précision et rappel élevés \n",
    "# F1 = 2 / [(1/precision) + (1/rappel)]\n",
    "from sklearn.metrics import f1_score\n",
    "f1_score(y_train_5, y_train_pred)\n",
    "# Favorise les classificateurs ayant une précision et un rappel similaires"
   ]
  },
  {
   "cell_type": "markdown",
   "id": "6d25299c",
   "metadata": {},
   "source": [
    "### Compromis precision/rappel"
   ]
  },
  {
   "cell_type": "code",
   "execution_count": null,
   "id": "c43471c6",
   "metadata": {},
   "outputs": [],
   "source": [
    "# Augmentation de la précision -> baisse du rappel\n",
    "# Augmentation du rappel -> baisse de la précision\n",
    "\n",
    "# Accès manuel au score pour personnaliser le seuil de décision\n",
    "y_scores = sgd_clf.decision_function(X[:1])\n",
    "y_scores"
   ]
  },
  {
   "cell_type": "code",
   "execution_count": null,
   "id": "a70e5ade",
   "metadata": {},
   "outputs": [],
   "source": [
    "threshold = 8000 # 0 par defaut\n",
    "y_some_digit_pred = (y_scores > threshold)\n",
    "y_some_digit_pred"
   ]
  },
  {
   "cell_type": "code",
   "execution_count": null,
   "id": "8275037f",
   "metadata": {},
   "outputs": [],
   "source": [
    "# Comment décider du seuil à utiliser?\n",
    "y_scores = cross_val_predict(sgd_clf, X_train, y_train_5, cv=3, method=\"decision_function\")\n",
    "\n",
    "from sklearn.metrics import precision_recall_curve\n",
    "precisions, recalls, thresholds = precision_recall_curve(y_train_5, y_scores)\n",
    "\n",
    "plt.style.use(\"Solarize_Light2\")\n",
    "def plot_precision_recall_vs_threshold(precisions, recalls, thresholds):\n",
    "    plt.plot(thresholds, precisions[:-1], \"b--\", label=\"Precision\")\n",
    "    plt.plot(thresholds, recalls[:-1], \"g-\", label=\"Rappel\")"
   ]
  },
  {
   "cell_type": "code",
   "execution_count": null,
   "id": "c33b659c",
   "metadata": {},
   "outputs": [],
   "source": [
    "plot_precision_recall_vs_threshold(precisions, recalls, thresholds)\n",
    "\n",
    "seuil = 5000\n",
    "prec_seuil = precisions[np.argmin(thresholds <= seuil)]\n",
    "rapp_seuil = recalls[np.argmin(thresholds <= seuil)]\n",
    "\n",
    "plt.scatter(seuil, prec_seuil, c=\"r\", marker=\"o\", s=50)\n",
    "plt.scatter(seuil, rapp_seuil, c=\"r\", marker=\"o\", s=50)\n",
    "plt.scatter(np.linspace(seuil, seuil), np.linspace(0, max([prec_seuil, rapp_seuil])),\n",
    "            marker=\".\", s=10, c=\"r\")\n",
    "plt.scatter(np.linspace(-60000, seuil), np.linspace(prec_seuil, prec_seuil), marker=\".\", s=10, c=\"r\")\n",
    "plt.scatter(np.linspace(-60000, seuil), np.linspace(rapp_seuil, rapp_seuil), marker=\".\", s=10, c=\"r\")\n",
    "\n",
    "plt.xlim(-60000, 40000)\n",
    "plt.ylim(-.1, 1.1)\n",
    "plt.xlabel(\"Seuil\")\n",
    "plt.legend(loc=\"best\")"
   ]
  },
  {
   "cell_type": "code",
   "execution_count": null,
   "id": "49f6b491",
   "metadata": {},
   "outputs": [],
   "source": [
    "plt.plot(recalls, precisions, c=\"green\")\n",
    "plt.scatter(np.linspace(0, rapp_seuil), np.linspace(prec_seuil, prec_seuil),  marker=\".\", s=10, c=\"r\")\n",
    "plt.scatter(np.linspace(rapp_seuil, rapp_seuil), np.linspace(0, prec_seuil),  marker=\".\", s=10, c=\"r\")\n",
    "plt.xlabel(\"Rappel\")\n",
    "plt.ylabel(\"Precision\")\n",
    "plt.xlim(0, 1)\n",
    "plt.ylim(0, 1)"
   ]
  },
  {
   "cell_type": "code",
   "execution_count": null,
   "id": "42e06814",
   "metadata": {},
   "outputs": [],
   "source": [
    "# Si l'on souhaite avoir une pracision de 90%\n",
    "threshold_90_precision = thresholds[np.argmax(precisions >= .90)] # ~ 3370\n",
    "y_train_pred_90 = (y_scores >= threshold_90_precision)"
   ]
  },
  {
   "cell_type": "code",
   "execution_count": null,
   "id": "1acb4893",
   "metadata": {},
   "outputs": [],
   "source": [
    "precision_score(y_train_5, y_train_pred_90)"
   ]
  },
  {
   "cell_type": "code",
   "execution_count": null,
   "id": "137253f3",
   "metadata": {},
   "outputs": [],
   "source": [
    "recall_score(y_train_5, y_train_pred_90) # Rappel trop bas (dapendant du projet!)"
   ]
  },
  {
   "cell_type": "markdown",
   "id": "7f09fe87",
   "metadata": {},
   "source": [
    "### La courbe ROC"
   ]
  },
  {
   "cell_type": "code",
   "execution_count": null,
   "id": "52649cb4",
   "metadata": {},
   "outputs": [],
   "source": [
    "# Courbe d'efficacita du racepteur (Receiver Operating Characteristic)\n",
    "# Croise le taux de vrais positifs (rappel) avec le taux de faux positifs\n",
    "# Taux de faux positifs -> pourcentage d'observations nagatives incorrectement classaes comme positives\n",
    "# FPR = 1 - TNR = 1 - specificite\n",
    "from sklearn.metrics import roc_curve\n",
    "fpr, tpr, thresholds = roc_curve(y_train_5, y_scores)\n",
    "\n",
    "def plot_roc_curve(fpr, tpr, label=None):\n",
    "    plt.plot(fpr, tpr, linewidth=2, label=label)\n",
    "    plt.plot([0, 1], [0, 1], \"k--\") # diagonale pointilae\n",
    "    plt.xlabel(\"Taux de faux positifs\")\n",
    "    plt.ylabel(\"Taux de vrais positifs (rappel)\")\n",
    "    \n",
    "plot_roc_curve(fpr, tpr)\n",
    "\n",
    "# Similaire à la courbe pracision/rappel (courbe PR) à préférer lorsque la classe positive est rare ou\n",
    "# si l'on attache davantage d'importance aux faux positifs qu'aux faux negatifs"
   ]
  },
  {
   "cell_type": "code",
   "execution_count": null,
   "id": "9eb26642",
   "metadata": {},
   "outputs": [],
   "source": [
    "from sklearn.metrics import roc_auc_score # Area Under the Curve\n",
    "roc_auc_score(y_train_5, y_scores)\n",
    "# Classificateur purement aléatoire -> auc = 1/2\n",
    "# Classificateur parfait -> auc = 1"
   ]
  },
  {
   "cell_type": "code",
   "execution_count": null,
   "id": "19e00bb0",
   "metadata": {},
   "outputs": [],
   "source": [
    "from sklearn.ensemble import RandomForestClassifier\n",
    "forest_clf = RandomForestClassifier(random_state=42)\n",
    "y_probas_forest = cross_val_predict(forest_clf, X_train, y_train_5, cv=3,\n",
    "                                   method=\"predict_proba\")\n",
    "y_scores_forest = y_probas_forest[:, 1] # score = probas de la classe positive\n",
    "fpr_forest, tpr_forest, threshold_forest = roc_curve(y_train_5, y_scores_forest)\n",
    "plt.plot(fpr, tpr, \"b:\", label=\"SGD\")\n",
    "plot_roc_curve(fpr_forest, tpr_forest, \"Foret aleatoire\")\n",
    "plt.legend(loc=0)"
   ]
  },
  {
   "cell_type": "code",
   "execution_count": null,
   "id": "c3229e04",
   "metadata": {},
   "outputs": [],
   "source": [
    "y_forest_predict = y_scores_forest > .5\n",
    "print(\"ROC AUC score:\", roc_auc_score(y_train_5, y_scores_forest),\n",
    "      \"\\nPrecision:\", precision_score(y_train_5, y_forest_predict),\n",
    "      \"\\nRappel:\", recall_score(y_train_5, y_forest_predict))"
   ]
  },
  {
   "cell_type": "markdown",
   "id": "ea4ff771",
   "metadata": {},
   "source": [
    "## Classification multi-classes"
   ]
  },
  {
   "cell_type": "code",
   "execution_count": null,
   "id": "96998879",
   "metadata": {},
   "outputs": [],
   "source": []
  },
  {
   "cell_type": "code",
   "execution_count": null,
   "id": "1556420e",
   "metadata": {},
   "outputs": [],
   "source": []
  },
  {
   "cell_type": "code",
   "execution_count": null,
   "id": "62de0cad",
   "metadata": {},
   "outputs": [],
   "source": []
  },
  {
   "cell_type": "code",
   "execution_count": null,
   "id": "60ab0dec",
   "metadata": {},
   "outputs": [],
   "source": []
  },
  {
   "cell_type": "code",
   "execution_count": null,
   "id": "afdbbd83",
   "metadata": {},
   "outputs": [],
   "source": []
  },
  {
   "cell_type": "code",
   "execution_count": null,
   "id": "3652c9fd",
   "metadata": {},
   "outputs": [],
   "source": []
  },
  {
   "cell_type": "code",
   "execution_count": null,
   "id": "b1f79069",
   "metadata": {},
   "outputs": [],
   "source": []
  },
  {
   "cell_type": "code",
   "execution_count": null,
   "id": "26f19546",
   "metadata": {},
   "outputs": [],
   "source": []
  },
  {
   "cell_type": "code",
   "execution_count": null,
   "id": "066ae62c",
   "metadata": {},
   "outputs": [],
   "source": []
  },
  {
   "cell_type": "code",
   "execution_count": null,
   "id": "0435beaf",
   "metadata": {},
   "outputs": [],
   "source": []
  },
  {
   "cell_type": "code",
   "execution_count": null,
   "id": "b685adb4",
   "metadata": {},
   "outputs": [],
   "source": []
  },
  {
   "cell_type": "code",
   "execution_count": null,
   "id": "1d8778bd",
   "metadata": {},
   "outputs": [],
   "source": []
  },
  {
   "cell_type": "code",
   "execution_count": null,
   "id": "3c42ad27",
   "metadata": {},
   "outputs": [],
   "source": []
  },
  {
   "cell_type": "code",
   "execution_count": null,
   "id": "5f490e62",
   "metadata": {},
   "outputs": [],
   "source": []
  },
  {
   "cell_type": "code",
   "execution_count": null,
   "id": "9e769b6e",
   "metadata": {},
   "outputs": [],
   "source": []
  },
  {
   "cell_type": "code",
   "execution_count": null,
   "id": "79c230c1",
   "metadata": {},
   "outputs": [],
   "source": []
  },
  {
   "cell_type": "code",
   "execution_count": null,
   "id": "e833e70d",
   "metadata": {},
   "outputs": [],
   "source": []
  },
  {
   "cell_type": "code",
   "execution_count": null,
   "id": "23241157",
   "metadata": {},
   "outputs": [],
   "source": []
  },
  {
   "cell_type": "code",
   "execution_count": null,
   "id": "52631ee4",
   "metadata": {},
   "outputs": [],
   "source": []
  },
  {
   "cell_type": "code",
   "execution_count": null,
   "id": "9f2ae1b0",
   "metadata": {},
   "outputs": [],
   "source": []
  },
  {
   "cell_type": "code",
   "execution_count": null,
   "id": "f8434e79",
   "metadata": {},
   "outputs": [],
   "source": []
  },
  {
   "cell_type": "code",
   "execution_count": null,
   "id": "d3f6f1e7",
   "metadata": {},
   "outputs": [],
   "source": []
  },
  {
   "cell_type": "code",
   "execution_count": null,
   "id": "29ebf2e1",
   "metadata": {},
   "outputs": [],
   "source": []
  },
  {
   "cell_type": "code",
   "execution_count": null,
   "id": "ad120c13",
   "metadata": {},
   "outputs": [],
   "source": []
  },
  {
   "cell_type": "code",
   "execution_count": null,
   "id": "d3dbc204",
   "metadata": {},
   "outputs": [],
   "source": []
  }
 ],
 "metadata": {
  "kernelspec": {
   "display_name": "Python 3 (ipykernel)",
   "language": "python",
   "name": "python3"
  },
  "language_info": {
   "codemirror_mode": {
    "name": "ipython",
    "version": 3
   },
   "file_extension": ".py",
   "mimetype": "text/x-python",
   "name": "python",
   "nbconvert_exporter": "python",
   "pygments_lexer": "ipython3",
   "version": "3.10.0"
  }
 },
 "nbformat": 4,
 "nbformat_minor": 5
}
