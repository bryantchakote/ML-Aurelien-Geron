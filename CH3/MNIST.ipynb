{
 "cells": [
  {
   "cell_type": "markdown",
   "id": "680b56c9",
   "metadata": {},
   "source": [
    "# Chapitre 3. Classification"
   ]
  },
  {
   "cell_type": "markdown",
   "id": "db40fead",
   "metadata": {},
   "source": [
    "## MNIST"
   ]
  },
  {
   "cell_type": "code",
   "execution_count": 1,
   "id": "3a139106",
   "metadata": {},
   "outputs": [
    {
     "data": {
      "text/plain": [
       "dict_keys(['data', 'target', 'frame', 'categories', 'feature_names', 'target_names', 'DESCR', 'details', 'url'])"
      ]
     },
     "execution_count": 1,
     "metadata": {},
     "output_type": "execute_result"
    }
   ],
   "source": [
    "from sklearn.datasets import fetch_openml\n",
    "mnist = fetch_openml(\"mnist_784\", version=1, data_home=\"C:\\\\Users\\\\tchak\\\\scikit_learn_data\")\n",
    "mnist.keys()"
   ]
  },
  {
   "cell_type": "code",
   "execution_count": 2,
   "id": "dd523ca0",
   "metadata": {
    "scrolled": true
   },
   "outputs": [
    {
     "name": "stdout",
     "output_type": "stream",
     "text": [
      "(70000, 784) (70000,)\n"
     ]
    }
   ],
   "source": [
    "X, y = mnist[\"data\"], mnist[\"target\"]\n",
    "print(X.shape, y.shape)"
   ]
  },
  {
   "cell_type": "code",
   "execution_count": 3,
   "id": "12ea7258",
   "metadata": {},
   "outputs": [
    {
     "data": {
      "text/plain": [
       "(-0.5, 27.5, 27.5, -0.5)"
      ]
     },
     "execution_count": 3,
     "metadata": {},
     "output_type": "execute_result"
    },
    {
     "data": {
      "image/png": "[encoded data removed]",
      "text/plain": [
       "<Figure size 432x288 with 1 Axes>"
      ]
     },
     "metadata": {
      "needs_background": "light"
     },
     "output_type": "display_data"
    }
   ],
   "source": [
    "import numpy as np\n",
    "import matplotlib.pyplot as plt\n",
    "some_digit = np.array(X[:1])\n",
    "some_digit_image = some_digit.reshape(28, 28)\n",
    "\n",
    "plt.imshow(some_digit_image, cmap=\"binary\")\n",
    "plt.axis(\"off\")"
   ]
  },
  {
   "cell_type": "code",
   "execution_count": 4,
   "id": "c886a0c2",
   "metadata": {
    "scrolled": true
   },
   "outputs": [
    {
     "data": {
      "text/plain": [
       "'5'"
      ]
     },
     "execution_count": 4,
     "metadata": {},
     "output_type": "execute_result"
    }
   ],
   "source": [
    "y[0]"
   ]
  },
  {
   "cell_type": "code",
   "execution_count": 5,
   "id": "c98f5eeb",
   "metadata": {},
   "outputs": [],
   "source": [
    "y = y.astype(np.uint8)"
   ]
  },
  {
   "cell_type": "code",
   "execution_count": 6,
   "id": "409f85a3",
   "metadata": {},
   "outputs": [],
   "source": [
    "X_train, X_test, y_train, y_test = X[:60000], X[60000:], y[:60000], y[60000:]"
   ]
  },
  {
   "cell_type": "markdown",
   "id": "a953e18c",
   "metadata": {},
   "source": [
    "## Entrainement d'un classificateur binaire"
   ]
  },
  {
   "cell_type": "code",
   "execution_count": 7,
   "id": "1dde3bbc",
   "metadata": {},
   "outputs": [],
   "source": [
    "y_train_5 = (y_train == 5)\n",
    "y_test_5 = (y_test == 5)"
   ]
  },
  {
   "cell_type": "code",
   "execution_count": 8,
   "id": "10ab2229",
   "metadata": {},
   "outputs": [
    {
     "data": {
      "text/plain": [
       "array([ True])"
      ]
     },
     "execution_count": 8,
     "metadata": {},
     "output_type": "execute_result"
    }
   ],
   "source": [
    "# Classificateur de descente de gradient stochastique (Stochastic Gradient Descent - SGD)\n",
    "from sklearn.linear_model import SGDClassifier\n",
    "sgd_clf = SGDClassifier(random_state=42)\n",
    "sgd_clf.fit(X_train, y_train_5)\n",
    "\n",
    "sgd_clf.predict(X[:1]) # True!"
   ]
  },
  {
   "cell_type": "markdown",
   "id": "ab15d615",
   "metadata": {},
   "source": [
    "## Mesures de performance"
   ]
  },
  {
   "cell_type": "markdown",
   "id": "cd58e7bc",
   "metadata": {},
   "source": [
    "### Mesurer l'exactitude à l'aide de la validation croisée"
   ]
  },
  {
   "cell_type": "code",
   "execution_count": 9,
   "id": "cb44fcfb",
   "metadata": {},
   "outputs": [
    {
     "name": "stdout",
     "output_type": "stream",
     "text": [
      "0.9669\n",
      "0.91625\n",
      "0.96785\n"
     ]
    }
   ],
   "source": [
    "# Implementation d'une validation croisée (meilleur contrôle du processus)\n",
    "from sklearn.model_selection import StratifiedKFold\n",
    "from sklearn.base import clone\n",
    "\n",
    "skfolds = StratifiedKFold(n_splits=3, shuffle=True, random_state=42)\n",
    "# Echantillonage stratifié pour produire des blocs contenant un ratio représentatif de chaque classe\n",
    "\n",
    "for train_index, test_index in skfolds.split(X_train, y_train_5):\n",
    "    clone_clf = clone(sgd_clf)\n",
    "    X_train_folds = X_train.loc[train_index]\n",
    "    y_train_folds = y_train_5.loc[train_index]\n",
    "    X_test_fold = X_train.loc[test_index]\n",
    "    y_test_fold = y_train_5.loc[test_index]\n",
    "    \n",
    "    clone_clf.fit(X_train_folds, y_train_folds)\n",
    "    y_pred = clone_clf.predict(X_test_fold)\n",
    "    n_correct = sum(y_pred == y_test_fold)\n",
    "    print(n_correct / len(y_pred))\n",
    "# Résultats plutôt satisfaisants"
   ]
  },
  {
   "cell_type": "code",
   "execution_count": 10,
   "id": "aa33e7c6",
   "metadata": {},
   "outputs": [
    {
     "data": {
      "text/plain": [
       "array([0.95035, 0.96035, 0.9604 ])"
      ]
     },
     "execution_count": 10,
     "metadata": {},
     "output_type": "execute_result"
    }
   ],
   "source": [
    "from sklearn.model_selection import cross_val_score\n",
    "cross_val_score(sgd_clf, X_train, y_train_5, cv=3, scoring=\"accuracy\")\n",
    "# > 95%, stupéfiant, mais pas assez, on verra pourquoi"
   ]
  },
  {
   "cell_type": "code",
   "execution_count": 11,
   "id": "748edc35",
   "metadata": {},
   "outputs": [],
   "source": [
    "# Classificateur dénué de toute intelligence\n",
    "from sklearn.base import BaseEstimator\n",
    "class Never5Classifier(BaseEstimator):\n",
    "    def fit(self, X, y=None):\n",
    "        pass\n",
    "    def predict(self, X):\n",
    "        return np.zeros((len(X), 1), dtype=bool) # Retourne juste une matrice unicolonne nulle"
   ]
  },
  {
   "cell_type": "code",
   "execution_count": 12,
   "id": "fbbcd570",
   "metadata": {},
   "outputs": [
    {
     "data": {
      "text/plain": [
       "array([0.91125, 0.90855, 0.90915])"
      ]
     },
     "execution_count": 12,
     "metadata": {},
     "output_type": "execute_result"
    }
   ],
   "source": [
    "never_5_clf = Never5Classifier()\n",
    "cross_val_score(never_5_clf, X_train, y_train_5, cv=3, scoring=\"accuracy\")\n",
    "# > 90% avec ce classificateur -> en effet les 5 ne représentent que 10% des images\n",
    "# Décider à chaque fois qu'une image n'est pas 5 -> avoir raison dans 90% des cas\n",
    "# L'exactitude n'est pas en général une mesure de performance surtout en cas d'asymétrie des données"
   ]
  },
  {
   "cell_type": "markdown",
   "id": "6f186820",
   "metadata": {},
   "source": [
    "### Matrice de confusion"
   ]
  },
  {
   "cell_type": "code",
   "execution_count": 13,
   "id": "a314de1d",
   "metadata": {},
   "outputs": [
    {
     "data": {
      "text/plain": [
       "array([[53892,   687],\n",
       "       [ 1891,  3530]], dtype=int64)"
      ]
     },
     "execution_count": 13,
     "metadata": {},
     "output_type": "execute_result"
    }
   ],
   "source": [
    "# Capter les observations rangées dans la mauvaise classe\n",
    "# Ne pouvant pas utiliser le jeu test -> cross_val_predict\n",
    "\n",
    "from sklearn.model_selection import cross_val_predict\n",
    "y_train_pred = cross_val_predict(sgd_clf, X_train, y_train_5, cv=3)\n",
    "# Prédiction dite saine (par un modèle qui n'a jamais rencontré les données) pour chaque bloc de test\n",
    "\n",
    "from sklearn.metrics import confusion_matrix\n",
    "confusion_matrix(y_train_5, y_train_pred)\n",
    "# En ligne la classe réelle, en colonne la classe prédite\n",
    "# TrueNegative     FalseNegative \n",
    "# FalsePositive    TruePositive"
   ]
  },
  {
   "cell_type": "markdown",
   "id": "02ced46d",
   "metadata": {},
   "source": [
    "### Précision et rappel"
   ]
  },
  {
   "cell_type": "code",
   "execution_count": 14,
   "id": "9cb28881",
   "metadata": {},
   "outputs": [
    {
     "name": "stdout",
     "output_type": "stream",
     "text": [
      "Precision: 0.8370879772350012 \n",
      "Rappel: 0.6511713705958311\n"
     ]
    }
   ],
   "source": [
    "from sklearn.metrics import precision_score, recall_score\n",
    "print(\"Precision:\", precision_score(y_train_5, y_train_pred),\n",
    "      \"\\nRappel:\", recall_score(y_train_5, y_train_pred))\n",
    "\n",
    "# Précision -> exactitude des prédictions positives - TP / (TP + FP)\n",
    "# Lorsqu'il declare qu'une image est 5, il n'a raison que 83.71% du temps\n",
    "\n",
    "# Rappel (sensibilité, True Positive Rate) -> Nombre d'observations positives detectées TP / (TP + FN)\n",
    "# Il ne detecte que 65.11% des 5"
   ]
  },
  {
   "cell_type": "code",
   "execution_count": 15,
   "id": "2b947208",
   "metadata": {},
   "outputs": [
    {
     "data": {
      "text/plain": [
       "0.7325171197343846"
      ]
     },
     "execution_count": 15,
     "metadata": {},
     "output_type": "execute_result"
    }
   ],
   "source": [
    "# Score F1 -> moyenne harmonique de la précision et du rappel, donne plus de poid aux faibles valeurs\n",
    "# Bon score F1 si précision et rappel élevés \n",
    "# F1 = 2 / [(1/precision) + (1/rappel)]\n",
    "from sklearn.metrics import f1_score\n",
    "f1_score(y_train_5, y_train_pred)\n",
    "# Favorise les classificateurs ayant une précision et un rappel similaires"
   ]
  },
  {
   "cell_type": "markdown",
   "id": "6d25299c",
   "metadata": {},
   "source": [
    "### Compromis précision/rappel"
   ]
  },
  {
   "cell_type": "code",
   "execution_count": 16,
   "id": "c43471c6",
   "metadata": {},
   "outputs": [
    {
     "data": {
      "text/plain": [
       "array([2164.22030239])"
      ]
     },
     "execution_count": 16,
     "metadata": {},
     "output_type": "execute_result"
    }
   ],
   "source": [
    "# Augmentation de la précision -> baisse du rappel\n",
    "# Augmentation du rappel -> baisse de la précision\n",
    "\n",
    "# Accès manuel au score pour personnaliser le seuil de décision\n",
    "y_scores = sgd_clf.decision_function(X[:1])\n",
    "y_scores"
   ]
  },
  {
   "cell_type": "code",
   "execution_count": 17,
   "id": "a70e5ade",
   "metadata": {},
   "outputs": [
    {
     "data": {
      "text/plain": [
       "array([False])"
      ]
     },
     "execution_count": 17,
     "metadata": {},
     "output_type": "execute_result"
    }
   ],
   "source": [
    "threshold = 8000 # 0 par defaut\n",
    "y_some_digit_pred = (y_scores > threshold)\n",
    "y_some_digit_pred"
   ]
  },
  {
   "cell_type": "code",
   "execution_count": 18,
   "id": "8275037f",
   "metadata": {},
   "outputs": [],
   "source": [
    "# Comment décider du seuil à utiliser?\n",
    "y_scores = cross_val_predict(sgd_clf, X_train, y_train_5, cv=3, method=\"decision_function\")\n",
    "\n",
    "from sklearn.metrics import precision_recall_curve\n",
    "precisions, recalls, thresholds = precision_recall_curve(y_train_5, y_scores)\n",
    "\n",
    "plt.style.use(\"Solarize_Light2\")\n",
    "def plot_precision_recall_vs_threshold(precisions, recalls, thresholds):\n",
    "    plt.plot(thresholds, precisions[:-1], \"b--\", label=\"Precision\")\n",
    "    plt.plot(thresholds, recalls[:-1], \"g-\", label=\"Rappel\")"
   ]
  },
  {
   "cell_type": "code",
   "execution_count": 19,
   "id": "c33b659c",
   "metadata": {},
   "outputs": [
    {
     "data": {
      "text/plain": [
       "<matplotlib.legend.Legend at 0x1f32d951900>"
      ]
     },
     "execution_count": 19,
     "metadata": {},
     "output_type": "execute_result"
    },
    {
     "data": {
      "image/png": "[encoded data removed]",
      "text/plain": [
       "<Figure size 432x288 with 1 Axes>"
      ]
     },
     "metadata": {},
     "output_type": "display_data"
    }
   ],
   "source": [
    "plot_precision_recall_vs_threshold(precisions, recalls, thresholds)\n",
    "\n",
    "seuil = 5000\n",
    "prec_seuil = precisions[np.argmin(thresholds <= seuil)]\n",
    "rapp_seuil = recalls[np.argmin(thresholds <= seuil)]\n",
    "\n",
    "plt.scatter(seuil, prec_seuil, c=\"r\", marker=\"o\", s=50)\n",
    "plt.scatter(seuil, rapp_seuil, c=\"r\", marker=\"o\", s=50)\n",
    "plt.scatter(np.linspace(seuil, seuil), np.linspace(0, max([prec_seuil, rapp_seuil])),\n",
    "            marker=\".\", s=10, c=\"r\")\n",
    "plt.scatter(np.linspace(-60000, seuil), np.linspace(prec_seuil, prec_seuil), marker=\".\", s=10, c=\"r\")\n",
    "plt.scatter(np.linspace(-60000, seuil), np.linspace(rapp_seuil, rapp_seuil), marker=\".\", s=10, c=\"r\")\n",
    "\n",
    "plt.xlim(-60000, 40000)\n",
    "plt.ylim(-.1, 1.1)\n",
    "plt.xlabel(\"Seuil\")\n",
    "plt.legend(loc=\"best\")"
   ]
  },
  {
   "cell_type": "code",
   "execution_count": 20,
   "id": "49f6b491",
   "metadata": {},
   "outputs": [
    {
     "data": {
      "text/plain": [
       "(0.0, 1.0)"
      ]
     },
     "execution_count": 20,
     "metadata": {},
     "output_type": "execute_result"
    },
    {
     "data": {
      "image/png": "[encoded data removed]",
      "text/plain": [
       "<Figure size 432x288 with 1 Axes>"
      ]
     },
     "metadata": {},
     "output_type": "display_data"
    }
   ],
   "source": [
    "plt.plot(recalls, precisions, c=\"green\")\n",
    "plt.scatter(np.linspace(0, rapp_seuil), np.linspace(prec_seuil, prec_seuil),  marker=\".\", s=10, c=\"r\")\n",
    "plt.scatter(np.linspace(rapp_seuil, rapp_seuil), np.linspace(0, prec_seuil),  marker=\".\", s=10, c=\"r\")\n",
    "plt.xlabel(\"Rappel\")\n",
    "plt.ylabel(\"Precision\")\n",
    "plt.xlim(0, 1)\n",
    "plt.ylim(0, 1)"
   ]
  },
  {
   "cell_type": "code",
   "execution_count": 21,
   "id": "42e06814",
   "metadata": {},
   "outputs": [],
   "source": [
    "# Si l'on souhaite avoir une pracision de 90%\n",
    "threshold_90_precision = thresholds[np.argmax(precisions >= .90)] # ~ 3370\n",
    "y_train_pred_90 = (y_scores >= threshold_90_precision)"
   ]
  },
  {
   "cell_type": "code",
   "execution_count": 22,
   "id": "1acb4893",
   "metadata": {},
   "outputs": [
    {
     "data": {
      "text/plain": [
       "0.9000345901072293"
      ]
     },
     "execution_count": 22,
     "metadata": {},
     "output_type": "execute_result"
    }
   ],
   "source": [
    "precision_score(y_train_5, y_train_pred_90)"
   ]
  },
  {
   "cell_type": "code",
   "execution_count": 23,
   "id": "137253f3",
   "metadata": {},
   "outputs": [
    {
     "data": {
      "text/plain": [
       "0.4799852425751706"
      ]
     },
     "execution_count": 23,
     "metadata": {},
     "output_type": "execute_result"
    }
   ],
   "source": [
    "recall_score(y_train_5, y_train_pred_90) # Rappel trop bas (dapendant du projet!)"
   ]
  },
  {
   "cell_type": "markdown",
   "id": "7f09fe87",
   "metadata": {},
   "source": [
    "### La courbe ROC"
   ]
  },
  {
   "cell_type": "code",
   "execution_count": 24,
   "id": "52649cb4",
   "metadata": {},
   "outputs": [
    {
     "data": {
      "image/png": "[encoded data removed]",
      "text/plain": [
       "<Figure size 432x288 with 1 Axes>"
      ]
     },
     "metadata": {},
     "output_type": "display_data"
    }
   ],
   "source": [
    "# Courbe d'efficacita du racepteur (Receiver Operating Characteristic)\n",
    "# Croise le taux de vrais positifs (rappel) avec le taux de faux positifs\n",
    "# Taux de faux positifs -> pourcentage d'observations nagatives incorrectement classaes comme positives\n",
    "# FPR = 1 - TNR = 1 - specificite\n",
    "from sklearn.metrics import roc_curve\n",
    "fpr, tpr, thresholds = roc_curve(y_train_5, y_scores)\n",
    "\n",
    "def plot_roc_curve(fpr, tpr, label=None):\n",
    "    plt.plot(fpr, tpr, linewidth=2, label=label)\n",
    "    plt.plot([0, 1], [0, 1], \"k--\") # diagonale pointilae\n",
    "    plt.xlabel(\"Taux de faux positifs\")\n",
    "    plt.ylabel(\"Taux de vrais positifs (rappel)\")\n",
    "    \n",
    "plot_roc_curve(fpr, tpr)\n",
    "\n",
    "# Similaire à la courbe pracision/rappel (courbe PR) à préférer lorsque la classe positive est rare ou\n",
    "# si l'on attache davantage d'importance aux faux positifs qu'aux faux negatifs"
   ]
  },
  {
   "cell_type": "code",
   "execution_count": 25,
   "id": "9eb26642",
   "metadata": {},
   "outputs": [
    {
     "data": {
      "text/plain": [
       "0.9604938554008616"
      ]
     },
     "execution_count": 25,
     "metadata": {},
     "output_type": "execute_result"
    }
   ],
   "source": [
    "from sklearn.metrics import roc_auc_score # Area Under the Curve\n",
    "roc_auc_score(y_train_5, y_scores)\n",
    "# Classificateur purement aléatoire -> auc = 1/2\n",
    "# Classificateur parfait -> auc = 1"
   ]
  },
  {
   "cell_type": "code",
   "execution_count": 26,
   "id": "19e00bb0",
   "metadata": {},
   "outputs": [
    {
     "data": {
      "text/plain": [
       "<matplotlib.legend.Legend at 0x1f29695eb60>"
      ]
     },
     "execution_count": 26,
     "metadata": {},
     "output_type": "execute_result"
    },
    {
     "data": {
      "image/png": "[encoded data removed]",
      "text/plain": [
       "<Figure size 432x288 with 1 Axes>"
      ]
     },
     "metadata": {},
     "output_type": "display_data"
    }
   ],
   "source": [
    "from sklearn.ensemble import RandomForestClassifier\n",
    "forest_clf = RandomForestClassifier(random_state=42)\n",
    "y_probas_forest = cross_val_predict(forest_clf, X_train, y_train_5, cv=3,\n",
    "                                   method=\"predict_proba\")\n",
    "y_scores_forest = y_probas_forest[:, 1] # score = probas de la classe positive\n",
    "fpr_forest, tpr_forest, threshold_forest = roc_curve(y_train_5, y_scores_forest)\n",
    "plt.plot(fpr, tpr, \"b:\", label=\"SGD\")\n",
    "plot_roc_curve(fpr_forest, tpr_forest, \"Foret aleatoire\")\n",
    "plt.legend(loc=0)"
   ]
  },
  {
   "cell_type": "code",
   "execution_count": 27,
   "id": "c3229e04",
   "metadata": {},
   "outputs": [
    {
     "name": "stdout",
     "output_type": "stream",
     "text": [
      "ROC AUC score: 0.9983436731328145 \n",
      "Precision: 0.9905083315756169 \n",
      "Rappel: 0.8662608374838591\n"
     ]
    }
   ],
   "source": [
    "y_forest_predict = y_scores_forest > .5\n",
    "print(\"ROC AUC score:\", roc_auc_score(y_train_5, y_scores_forest),\n",
    "      \"\\nPrecision:\", precision_score(y_train_5, y_forest_predict),\n",
    "      \"\\nRappel:\", recall_score(y_train_5, y_forest_predict))"
   ]
  },
  {
   "cell_type": "markdown",
   "id": "936e75ca",
   "metadata": {},
   "source": [
    "## Classification multi-classes"
   ]
  },
  {
   "cell_type": "code",
   "execution_count": null,
   "id": "96998879",
   "metadata": {},
   "outputs": [],
   "source": [
    "# La desente de gradient stochastique (SGD), la classification par forets aleatoires (RandomForest) et\n",
    "# la classification naive bayesienne sont capables de gerer des classes multiples\n",
    "\n",
    "# La regression logistique et les machines a vecteurs de support (SVM) sont strictement binaires"
   ]
  },
  {
   "cell_type": "code",
   "execution_count": null,
   "id": "1556420e",
   "metadata": {},
   "outputs": [],
   "source": [
    "# Pour classer les chiffres de 0 a 9, on peut entrainer 10 classificateurs binaires (1 par chiffre) et\n",
    "# predire la label d'une image en comparant le score pour celle-ci de chaun de ces classificateurs\n",
    "# Strategie un contre le reste (one-vs-the-rest / OvR) ou un contre tous (one-vs-all / OvA)\n",
    "\n",
    "# On peut egalement entrainer un classificateur binaire pour chaque paire de chiffres -> Strategie un\n",
    "# contre un (one-vs-one / OvO) -> C(2, n) classificateurs ie. 45 dans notre cas. L'on choisit dans ce\n",
    "# cas la classe ayant remporte le plus de duels (3 vs 1, 2, 4, 6, 7, 9 -> 3, 3 vs 5, 8 -> 5, 8, donc 3)\n",
    "# Avantage -> chaque classificateur n'a besoin d'etre entraine que sur la partie du jeu d'entrainement\n",
    "# correspondant aux deux classes qu'il doit distinguer"
   ]
  },
  {
   "cell_type": "code",
   "execution_count": null,
   "id": "62de0cad",
   "metadata": {},
   "outputs": [],
   "source": [
    "# Les SVM par exemple ne s'adptent pas bien aux jeux d'entrainement de grande taille -> OvO preferables\n",
    "# Mais en general, pour les classificateus binaires on preferera une strategie OvR"
   ]
  },
  {
   "cell_type": "code",
   "execution_count": 28,
   "id": "60ab0dec",
   "metadata": {},
   "outputs": [
    {
     "name": "stderr",
     "output_type": "stream",
     "text": [
      "C:\\Users\\tchak\\AppData\\Local\\Programs\\Python\\Python310\\lib\\site-packages\\sklearn\\base.py:450: UserWarning: X does not have valid feature names, but SVC was fitted with feature names\n",
      "  warnings.warn(\n"
     ]
    },
    {
     "data": {
      "text/plain": [
       "array([5], dtype=uint8)"
      ]
     },
     "execution_count": 28,
     "metadata": {},
     "output_type": "execute_result"
    }
   ],
   "source": [
    "# Classificateur binaire pour multi-classes, OvR ou OvO selon les cas (par defaut)\n",
    "from sklearn.svm import SVC\n",
    "svm_clf = SVC()\n",
    "svm_clf.fit(X_train, y_train) # y_train, not y_train_5\n",
    "svm_clf.predict(some_digit) # Bonne prediction"
   ]
  },
  {
   "cell_type": "code",
   "execution_count": 31,
   "id": "afdbbd83",
   "metadata": {},
   "outputs": [
    {
     "name": "stderr",
     "output_type": "stream",
     "text": [
      "C:\\Users\\tchak\\AppData\\Local\\Programs\\Python\\Python310\\lib\\site-packages\\sklearn\\base.py:450: UserWarning: X does not have valid feature names, but SVC was fitted with feature names\n",
      "  warnings.warn(\n"
     ]
    },
    {
     "data": {
      "text/plain": [
       "array([[ 1.72501977,  2.72809088,  7.2510018 ,  8.3076379 , -0.31087254,\n",
       "         9.3132482 ,  1.70975103,  2.76765202,  6.23049537,  4.84771048]])"
      ]
     },
     "execution_count": 31,
     "metadata": {},
     "output_type": "execute_result"
    }
   ],
   "source": [
    "# Scikit-Learn a entraine 45 45 classificateurs binaires en utilisant la strategie OvO\n",
    "some_digit_scores = svm_clf.decision_function(some_digit)\n",
    "# La classe 5 (qui coincide ici avec le chiffre 5) a le plus grand score\n",
    "some_digit_scores"
   ]
  },
  {
   "cell_type": "code",
   "execution_count": 32,
   "id": "3652c9fd",
   "metadata": {},
   "outputs": [
    {
     "data": {
      "text/plain": [
       "5"
      ]
     },
     "execution_count": 32,
     "metadata": {},
     "output_type": "execute_result"
    }
   ],
   "source": [
    "svm_clf.classes_[np.argmax(some_digit_scores)] # Classe liee au score le plus eleve\n",
    "# La liste des cibles est rangee dans l'attribut classes_ du classificateur"
   ]
  },
  {
   "cell_type": "code",
   "execution_count": 34,
   "id": "b1f79069",
   "metadata": {},
   "outputs": [
    {
     "name": "stderr",
     "output_type": "stream",
     "text": [
      "C:\\Users\\tchak\\AppData\\Local\\Programs\\Python\\Python310\\lib\\site-packages\\sklearn\\base.py:450: UserWarning: X does not have valid feature names, but SVC was fitted with feature names\n",
      "  warnings.warn(\n",
      "C:\\Users\\tchak\\AppData\\Local\\Programs\\Python\\Python310\\lib\\site-packages\\sklearn\\base.py:450: UserWarning: X does not have valid feature names, but SVC was fitted with feature names\n",
      "  warnings.warn(\n",
      "C:\\Users\\tchak\\AppData\\Local\\Programs\\Python\\Python310\\lib\\site-packages\\sklearn\\base.py:450: UserWarning: X does not have valid feature names, but SVC was fitted with feature names\n",
      "  warnings.warn(\n",
      "C:\\Users\\tchak\\AppData\\Local\\Programs\\Python\\Python310\\lib\\site-packages\\sklearn\\base.py:450: UserWarning: X does not have valid feature names, but SVC was fitted with feature names\n",
      "  warnings.warn(\n",
      "C:\\Users\\tchak\\AppData\\Local\\Programs\\Python\\Python310\\lib\\site-packages\\sklearn\\base.py:450: UserWarning: X does not have valid feature names, but SVC was fitted with feature names\n",
      "  warnings.warn(\n",
      "C:\\Users\\tchak\\AppData\\Local\\Programs\\Python\\Python310\\lib\\site-packages\\sklearn\\base.py:450: UserWarning: X does not have valid feature names, but SVC was fitted with feature names\n",
      "  warnings.warn(\n",
      "C:\\Users\\tchak\\AppData\\Local\\Programs\\Python\\Python310\\lib\\site-packages\\sklearn\\base.py:450: UserWarning: X does not have valid feature names, but SVC was fitted with feature names\n",
      "  warnings.warn(\n",
      "C:\\Users\\tchak\\AppData\\Local\\Programs\\Python\\Python310\\lib\\site-packages\\sklearn\\base.py:450: UserWarning: X does not have valid feature names, but SVC was fitted with feature names\n",
      "  warnings.warn(\n",
      "C:\\Users\\tchak\\AppData\\Local\\Programs\\Python\\Python310\\lib\\site-packages\\sklearn\\base.py:450: UserWarning: X does not have valid feature names, but SVC was fitted with feature names\n",
      "  warnings.warn(\n",
      "C:\\Users\\tchak\\AppData\\Local\\Programs\\Python\\Python310\\lib\\site-packages\\sklearn\\base.py:450: UserWarning: X does not have valid feature names, but SVC was fitted with feature names\n",
      "  warnings.warn(\n"
     ]
    },
    {
     "data": {
      "text/plain": [
       "array([5], dtype=uint8)"
      ]
     },
     "execution_count": 34,
     "metadata": {},
     "output_type": "execute_result"
    }
   ],
   "source": [
    "# Imposer la strategie OvR\n",
    "from sklearn.multiclass import OneVsRestClassifier\n",
    "ovr_clf = OneVsRestClassifier(SVC())\n",
    "ovr_clf.fit(X_train, y_train) # Time consuming !!!\n",
    "ovr_clf.predict(some_digit)"
   ]
  },
  {
   "cell_type": "code",
   "execution_count": 35,
   "id": "26f19546",
   "metadata": {},
   "outputs": [
    {
     "data": {
      "text/plain": [
       "[SVC(), SVC(), SVC(), SVC(), SVC(), SVC(), SVC(), SVC(), SVC(), SVC()]"
      ]
     },
     "execution_count": 35,
     "metadata": {},
     "output_type": "execute_result"
    }
   ],
   "source": [
    "ovr_clf.estimators_"
   ]
  },
  {
   "cell_type": "code",
   "execution_count": 37,
   "id": "066ae62c",
   "metadata": {},
   "outputs": [
    {
     "name": "stderr",
     "output_type": "stream",
     "text": [
      "C:\\Users\\tchak\\AppData\\Local\\Programs\\Python\\Python310\\lib\\site-packages\\sklearn\\base.py:450: UserWarning: X does not have valid feature names, but SGDClassifier was fitted with feature names\n",
      "  warnings.warn(\n"
     ]
    },
    {
     "data": {
      "text/plain": [
       "array([[-31893.03095419, -34419.69069632,  -9530.63950739,\n",
       "          1823.73154031, -22320.14822878,  -1385.80478895,\n",
       "        -26188.91070951, -16147.51323997,  -4604.35491274,\n",
       "        -12050.767298  ]])"
      ]
     },
     "execution_count": 37,
     "metadata": {},
     "output_type": "execute_result"
    }
   ],
   "source": [
    "# Entrainement avec un SGDClassifier (pas besoin de specifier la strategie, multi-classe par defaut)\n",
    "sgd_clf.fit(X_train, y_train)\n",
    "sgd_clf.decision_function(some_digit)\n",
    "# Leger doute par rapport a la classe 3"
   ]
  },
  {
   "cell_type": "code",
   "execution_count": 38,
   "id": "0435beaf",
   "metadata": {},
   "outputs": [
    {
     "data": {
      "text/plain": [
       "array([0.87365, 0.85835, 0.8689 ])"
      ]
     },
     "execution_count": 38,
     "metadata": {},
     "output_type": "execute_result"
    }
   ],
   "source": [
    "# Validation croisee pour evaluer le classificateur\n",
    "cross_val_score(sgd_clf, X_train, y_train, cv=3, scoring=\"accuracy\") # +84% sur chaque bloc"
   ]
  },
  {
   "cell_type": "code",
   "execution_count": 39,
   "id": "b685adb4",
   "metadata": {},
   "outputs": [
    {
     "data": {
      "text/plain": [
       "array([0.8983, 0.891 , 0.9018])"
      ]
     },
     "execution_count": 39,
     "metadata": {},
     "output_type": "execute_result"
    }
   ],
   "source": [
    "# Normalisation des donnees\n",
    "from sklearn.preprocessing import StandardScaler\n",
    "scaler = StandardScaler()\n",
    "X_train_scaled = scaler.fit_transform(X_train.astype(np.float64))\n",
    "cross_val_score(sgd_clf, X_train_scaled, y_train, cv=3, scoring=\"accuracy\") # ~90% sur chaque bloc"
   ]
  },
  {
   "cell_type": "markdown",
   "id": "f4231b7d",
   "metadata": {},
   "source": [
    "## Analyse des erreurs"
   ]
  },
  {
   "cell_type": "code",
   "execution_count": null,
   "id": "3c42ad27",
   "metadata": {},
   "outputs": [],
   "source": []
  },
  {
   "cell_type": "code",
   "execution_count": null,
   "id": "5f490e62",
   "metadata": {},
   "outputs": [],
   "source": []
  },
  {
   "cell_type": "code",
   "execution_count": null,
   "id": "9e769b6e",
   "metadata": {},
   "outputs": [],
   "source": []
  },
  {
   "cell_type": "code",
   "execution_count": null,
   "id": "79c230c1",
   "metadata": {},
   "outputs": [],
   "source": []
  },
  {
   "cell_type": "code",
   "execution_count": null,
   "id": "e833e70d",
   "metadata": {},
   "outputs": [],
   "source": []
  },
  {
   "cell_type": "code",
   "execution_count": null,
   "id": "23241157",
   "metadata": {},
   "outputs": [],
   "source": []
  },
  {
   "cell_type": "code",
   "execution_count": null,
   "id": "52631ee4",
   "metadata": {},
   "outputs": [],
   "source": []
  },
  {
   "cell_type": "code",
   "execution_count": null,
   "id": "9f2ae1b0",
   "metadata": {},
   "outputs": [],
   "source": []
  },
  {
   "cell_type": "code",
   "execution_count": null,
   "id": "f8434e79",
   "metadata": {},
   "outputs": [],
   "source": []
  },
  {
   "cell_type": "code",
   "execution_count": null,
   "id": "d3f6f1e7",
   "metadata": {},
   "outputs": [],
   "source": []
  },
  {
   "cell_type": "code",
   "execution_count": null,
   "id": "29ebf2e1",
   "metadata": {},
   "outputs": [],
   "source": []
  },
  {
   "cell_type": "code",
   "execution_count": null,
   "id": "ad120c13",
   "metadata": {},
   "outputs": [],
   "source": []
  },
  {
   "cell_type": "code",
   "execution_count": null,
   "id": "d3dbc204",
   "metadata": {},
   "outputs": [],
   "source": []
  }
 ],
 "metadata": {
  "kernelspec": {
   "display_name": "Python 3 (ipykernel)",
   "language": "python",
   "name": "python3"
  },
  "language_info": {
   "codemirror_mode": {
    "name": "ipython",
    "version": 3
   },
   "file_extension": ".py",
   "mimetype": "text/x-python",
   "name": "python",
   "nbconvert_exporter": "python",
   "pygments_lexer": "ipython3",
   "version": "3.10.0"
  }
 },
 "nbformat": 4,
 "nbformat_minor": 5
}
